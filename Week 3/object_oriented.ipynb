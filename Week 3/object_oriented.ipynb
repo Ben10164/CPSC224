{
 "cells": [
  {
   "cell_type": "markdown",
   "metadata": {},
   "source": [
    "## Object-Oriented Programming "
   ]
  },
  {
   "cell_type": "markdown",
   "metadata": {},
   "source": [
    "### What makes objects \"Object-Oriented\"\n",
    "1. Abstraction\n",
    "    * Makes complex things less complex\n",
    "    * Beautiful \n",
    "1. Encapsulation \n",
    "    * The programmer can change the implementation, but need not notify the user\n",
    "    * public methods - describe the interface\n",
    "    * private methods - describe the implementation\n",
    "    * Data hiding\n",
    "    * Implementation hiding\n",
    "1. Inheritance\n",
    "    * \"Is a\"\n",
    "        * Y is an X (Person is an Object)\n",
    "    * Hierarchy\n",
    "    * Single inheritance - a sublcass inherits from only one superclass\n",
    "        * class hierarchy is a tree\n",
    "    * Multiple inheritance - a class inherits from more than one class\n",
    "        * can cause runtime conflicts"
   ]
  }
 ],
 "metadata": {
  "interpreter": {
   "hash": "5f8c5c8ab154ffd7b7cf769370d90abd279d12a3d937a702f83e9fc02204b3d3"
  },
  "kernelspec": {
   "display_name": "Python 3.9.9 64-bit ('base': conda)",
   "language": "python",
   "name": "python3"
  },
  "language_info": {
   "name": "python",
   "version": "3.9.9"
  },
  "orig_nbformat": 4
 },
 "nbformat": 4,
 "nbformat_minor": 2
}
