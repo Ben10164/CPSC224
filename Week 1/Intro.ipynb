{
 "cells": [
  {
   "cell_type": "markdown",
   "metadata": {},
   "source": [
    "# CPSC 224 Notes"
   ]
  },
  {
   "cell_type": "markdown",
   "metadata": {},
   "source": [
    "* This is not a java class, it is a Software Development class\n",
    "* What you need for a job:\n",
    "    * Coding skills in C or a C-derived language and a scripting language\n",
    "    * Communication skills\n",
    "    * Version control tools for collabeoration and engineering  (git)\n",
    "    * Software testing skills\n",
    "    * Personal (non-class) projects\n",
    "    * The engineering attitude (if youre interested in something, what action do you take to build new solutions around it?)\n",
    "    \n"
   ]
  },
  {
   "cell_type": "markdown",
   "metadata": {},
   "source": [
    "```java\n",
    "public class HelloWorld\n",
    "{\n",
    "    public static void main(String[] args)\n",
    "    {\n",
    "        System.out.println(\"Hello World!\");\n",
    "    }\n",
    "}\n",
    "\n",
    "\n",
    "```"
   ]
  },
  {
   "cell_type": "markdown",
   "metadata": {},
   "source": [
    "Do the blackboard stuff  \n",
    "This is the yhahtzee class"
   ]
  }
 ],
 "metadata": {
  "interpreter": {
   "hash": "5f8c5c8ab154ffd7b7cf769370d90abd279d12a3d937a702f83e9fc02204b3d3"
  },
  "kernelspec": {
   "display_name": "Python 3.9.9 64-bit ('base': conda)",
   "language": "python",
   "name": "python3"
  },
  "language_info": {
   "name": "python",
   "version": "3.9.9"
  },
  "orig_nbformat": 4
 },
 "nbformat": 4,
 "nbformat_minor": 2
}
