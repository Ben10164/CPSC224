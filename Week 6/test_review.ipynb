{
 "cells": [
  {
   "cell_type": "markdown",
   "metadata": {},
   "source": [
    "# What to know:\n",
    "1. How Yahtzee works\n",
    "1. Procedural vs Object Oriented Programming\n",
    "1. What is an Object?\n",
    "    1. methods\n",
    "    1. variables - the state of the object\n",
    "1. Classes \n",
    "    1. when you instantiate a class, you create an object\n",
    "    1. a class is NOT an object\n",
    "    1. a class is like a blueprint\n",
    "1. Git...\n",
    "    1. version control\n",
    "    1. commits\n",
    "    1. blah blah yeah\n",
    "1. UML\n",
    "    1. unified modeling language\n",
    "    1. describes the structure of the system, and the behavior\n",
    "    1. class Diagrams is about the structure (what classes are there, and how do they relate to each other)\n",
    "1. Abstraction\n",
    "1. Encapsulation \n",
    "1. Data Hiding / Implementation Hiding\n",
    "1. Inheritance \n",
    "1. Polymorphism\n",
    "1. Abstract Classes\n",
    "1. Good vs Bad Code\n",
    "1. **How to write Unit Tests**\n",
    "    1. AAA: \n",
    "        1. Assemble \n",
    "        1. Act \n",
    "        1. Assert\n",
    "    1. Time vs Cost\n",
    "        1. the triangle\n",
    "    1. testing levels\n",
    "        1. one at a time"
   ]
  }
 ],
 "metadata": {
  "language_info": {
   "name": "plaintext"
  },
  "orig_nbformat": 4
 },
 "nbformat": 4,
 "nbformat_minor": 2
}
