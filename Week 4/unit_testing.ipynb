{
 "cells": [
  {
   "cell_type": "markdown",
   "metadata": {},
   "source": [
    "# Unit Testing"
   ]
  },
  {
   "cell_type": "markdown",
   "metadata": {},
   "source": [
    "What is testing for:\n",
    "1. the primary purpose of testing is to detect software failures, so that defects may be discovered and corrected\n",
    "1. testing also can be used to establish whether a project is complete\n",
    "1. testing is used to integrate work between different individuals or groups"
   ]
  }
 ],
 "metadata": {
  "language_info": {
   "name": "python"
  },
  "orig_nbformat": 4
 },
 "nbformat": 4,
 "nbformat_minor": 2
}
