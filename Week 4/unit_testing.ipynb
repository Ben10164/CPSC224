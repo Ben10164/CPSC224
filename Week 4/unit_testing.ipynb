{
 "cells": [
  {
   "cell_type": "markdown",
   "metadata": {},
   "source": [
    "# Unit Testing"
   ]
  },
  {
   "cell_type": "markdown",
   "metadata": {},
   "source": [
    "What is testing for:\n",
    "1. the primary purpose of testing is to detect software failures, so that defects may be discovered and corrected\n",
    "1. testing also can be used to establish whether a project is complete\n",
    "1. testing is used to integrate work between different individuals or groups"
   ]
  },
  {
   "cell_type": "markdown",
   "metadata": {},
   "source": [
    "\n",
    "* unit testing is a method by which individual units of source ode with associated control data are tested to determine if they are fit for use\n",
    "* a \"unit\" is the smallest testable part of an application like functions/procedures, classes, interfaces\n",
    "* unit tests are typically written and run by software developers to ensure that these small units of code each individually meet its design and behaves as intended"
   ]
  },
  {
   "cell_type": "markdown",
   "metadata": {},
   "source": [
    "* Smoke tests: a practice that apart from making a huge test suite, also makes super fast small tests that you run that only test the super important stuff super quickly\n",
    "    * a lot faster than a huge large suite of tests, but doesnt test it all"
   ]
  },
  {
   "cell_type": "markdown",
   "metadata": {},
   "source": [
    "# Day 2\n",
    "* Unit tests either Pass or Fail\n",
    "* Pattern of the best Unit Tests: AAA\n",
    "    1. Arrange\n",
    "    1. Act\n",
    "    1. Assert"
   ]
  }
 ],
 "metadata": {
  "language_info": {
   "name": "python"
  },
  "orig_nbformat": 4
 },
 "nbformat": 4,
 "nbformat_minor": 2
}
