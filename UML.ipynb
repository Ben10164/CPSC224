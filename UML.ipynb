{
 "cells": [
  {
   "cell_type": "markdown",
   "metadata": {},
   "source": [
    "### Summary document\n",
    "* 1-2 pages\n",
    "* Describe project\n",
    "* Describe your design and choices \n",
    "* What would you like to have done given more time?\n",
    "* What hurdles did you face that you either overcame of need to for HW2?\n",
    "* Goes in Summaries/ directory of your repo"
   ]
  },
  {
   "cell_type": "markdown",
   "metadata": {},
   "source": [
    "## UML Class Diagrams\n",
    "* A tool for communication\n",
    "* Unified Modeling Language\n",
    "* Used to analyze, design, and implement software-based systems\n"
   ]
  },
  {
   "cell_type": "markdown",
   "metadata": {},
   "source": [
    "#### Types of UML Diagrams\n",
    "* Behavioral \n",
    "    * How they will change over time\n",
    "* Structural\n",
    "    * The structure of the code\n",
    "    * Class Diagrams are structural \n",
    "        * The most common types of diagrams"
   ]
  },
  {
   "cell_type": "markdown",
   "metadata": {},
   "source": [
    "![UML_Diagram_Graphs](http://www.herongyang.com/UML/UML-Diagram-Types.jpg)  \n",
    "img from: http://www.herongyang.com/UML/UML-Diagram-Types.jpg "
   ]
  },
  {
   "cell_type": "markdown",
   "metadata": {},
   "source": [
    "### Class Diagrams\n",
    "* `+` is a sign for public members\n",
    "* `-` is a sign for private members\n",
    "* 3 tiers\n",
    "    1. Name\n",
    "    1. Attributes\n",
    "    1. operations\n",
    "* An arrow means that it inherits what it is pointing to\n",
    "    * e.g. professor inherits person\n"
   ]
  },
  {
   "cell_type": "markdown",
   "metadata": {},
   "source": [
    "![Class_Diagram_Example](https://i2.wp.com/francescolelli.info/wp-content/uploads/2019/04/Class-Diagram-UML-Example.jpg?w=628&ssl=1)  \n",
    "img from: https://i2.wp.com/francescolelli.info/wp-content/uploads/2019/04/Class-Diagram-UML-Example.jpg?w=628&ssl=1"
   ]
  }
 ],
 "metadata": {
  "interpreter": {
   "hash": "5f8c5c8ab154ffd7b7cf769370d90abd279d12a3d937a702f83e9fc02204b3d3"
  },
  "kernelspec": {
   "display_name": "Python 3.9.9 64-bit ('base': conda)",
   "language": "python",
   "name": "python3"
  },
  "language_info": {
   "codemirror_mode": {
    "name": "ipython",
    "version": 3
   },
   "file_extension": ".py",
   "mimetype": "text/x-python",
   "name": "python",
   "nbconvert_exporter": "python",
   "pygments_lexer": "ipython3",
   "version": "3.9.9"
  },
  "orig_nbformat": 4
 },
 "nbformat": 4,
 "nbformat_minor": 2
}
