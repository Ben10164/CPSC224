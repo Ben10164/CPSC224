{
 "cells": [
  {
   "cell_type": "markdown",
   "metadata": {},
   "source": [
    "### Object Oriented Programming & Java Classes"
   ]
  },
  {
   "cell_type": "markdown",
   "metadata": {},
   "source": [
    "* Object-Oriented Programming:\n",
    "    * Focused on objects, which represent conceptual pieces of the problem space\n",
    "    * Objects are created from abstract data types\n",
    "    * an object brings data and functions together\n",
    "* Procedural Programming\n",
    "    * Focused on the actions or procedures that take place (C style programs)\n",
    "    * Operate on data items that are separate from the procedures\n",
    "    * Potential for huge impact if data structures need to change since code is directly bound to the data structure layout & naming"
   ]
  },
  {
   "cell_type": "markdown",
   "metadata": {},
   "source": [
    "## What is an Object?\n",
    "* An Object has:\n",
    "    * Data attributes\n",
    "    * Methods\n",
    "    * Objects can achieve encapsulation and Data Hiding\n",
    "        * Data Hiding is an objects' ability to hide data attributes from code that is outside the object    \n",
    "* When you call new, you are instantiating an object\n",
    "    * `Person a = new Person()`, no need for the `*` like in C++\n",
    "        * This is a reference, not a pointer\n"
   ]
  },
  {
   "cell_type": "markdown",
   "metadata": {},
   "source": [
    "## Object-Oriented Programming "
   ]
  },
  {
   "cell_type": "markdown",
   "metadata": {},
   "source": [
    "### What makes objects \"Object-Oriented\"\n",
    "1. Abstraction\n",
    "    * Makes complex things less complex\n",
    "    * Beautiful \n",
    "1. Encapsulation \n",
    "    * The programmer can change the implementation, but need not notify the user\n",
    "    * public methods - describe the interface\n",
    "    * private methods - describe the implementation\n",
    "    * Data hiding\n",
    "    * Implementation hiding\n",
    "1. Inheritance\n",
    "    * \"Is a\"\n",
    "        * Y is an X (Person is an Object)\n",
    "    * Hierarchy\n",
    "    * Single inheritance - a sublcass inherits from only one superclass\n",
    "        * class hierarchy is a tree\n",
    "    * Multiple inheritance - a class inherits from more than one class\n",
    "        * can cause runtime conflicts"
   ]
  }
 ],
 "metadata": {
  "interpreter": {
   "hash": "5f8c5c8ab154ffd7b7cf769370d90abd279d12a3d937a702f83e9fc02204b3d3"
  },
  "kernelspec": {
   "display_name": "Python 3.9.9 64-bit ('base': conda)",
   "language": "python",
   "name": "python3"
  },
  "language_info": {
   "name": "python",
   "version": "3.9.10"
  },
  "orig_nbformat": 4
 },
 "nbformat": 4,
 "nbformat_minor": 2
}
